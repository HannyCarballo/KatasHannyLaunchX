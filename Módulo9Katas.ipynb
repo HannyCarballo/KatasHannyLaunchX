{
  "cells": [
    {
      "cell_type": "markdown",
      "metadata": {},
      "source": [
        "# Ejercicio: Uso de funciones en Python"
      ]
    },
    {
      "cell_type": "markdown",
      "metadata": {},
      "source": [
        "### Ejercicio 1: Trabajar con argumentos en funciones\n",
        "\n",
        "Los argumentos requeridos en las funciones se utilizan cuando las funciones necesitan que esos argumentos funcionen correctamente. En este ejercicio, construirás un informe de combustible que requiere información de varias ubicaciones de combustible en todo el cohete.\n",
        "\n"
      ]
    },
    {
      "cell_type": "markdown",
      "metadata": {},
      "source": [
        "> **TIP**\n",
        "> Dedica unos minutos para tratar de encontrar una solución. Luego desplázate hacia abajo hasta la parte inferior para ver si has logrado compilar el programa de acuerdo con las especificaciones\n",
        "\n",
        "Comienza por crear una función que necesite tres lecturas de combustible y devuelva un informe:"
      ]
    },
    {
      "cell_type": "code",
      "execution_count": 1,
      "metadata": {},
      "outputs": [
        {
          "name": "stdout",
          "output_type": "stream",
          "text": [
            "Bienvenido al programa que construye un informe de combustible :)\n",
            "By: Hanny Carballo\n"
          ]
        }
      ],
      "source": [
        "# Función para leer 3 tanques de combustible y muestre el promedio\n",
        "print(\"Bienvenido al programa que construye un informe de combustible :)\")\n",
        "print(\"By: Hanny Carballo\")\n",
        "\n",
        "def generar_reporte(tanque_principal, tanque_externo, tanque_de_hidrógeno):\n",
        "    promedio_total = (tanque_principal + tanque_externo + tanque_de_hidrógeno) / 3\n",
        "    return f\"\"\"Informe de combustible:\n",
        "    Promedio total: {promedio_total}%\n",
        "    Tanque principal: {tanque_principal}%\n",
        "    Tanque externo: {tanque_externo}%\n",
        "    Tanque de hidrógeno: {tanque_de_hidrógeno}% \n",
        "    \"\"\""
      ]
    },
    {
      "cell_type": "markdown",
      "metadata": {},
      "source": [
        "Ahora que hemos definido la función de informes, vamos a comprobarlo. Para esta misión, los tanques no están llenos:"
      ]
    },
    {
      "cell_type": "code",
      "execution_count": 2,
      "metadata": {},
      "outputs": [
        {
          "name": "stdout",
          "output_type": "stream",
          "text": [
            "Informe de combustible:\n",
            "    Promedio total: 78.33333333333333%\n",
            "    Tanque principal: 80%\n",
            "    Tanque externo: 70%\n",
            "    Tanque de hidrógeno: 85% \n",
            "    \n"
          ]
        }
      ],
      "source": [
        "\n",
        "# Llamamos a la función que genera el reporte print(funcion(tanque1, tanque2, tanque3))\n",
        "print(generar_reporte(80, 70, 85))"
      ]
    },
    {
      "cell_type": "markdown",
      "metadata": {},
      "source": [
        "En lugar de simplemente crear el informe, la función también está calculando el promedio. Mejora la legibilidad extrayendo el cálculo promedio de la función en una nueva función para que el promedio se pueda hacer de forma independiente:"
      ]
    },
    {
      "cell_type": "code",
      "execution_count": 3,
      "metadata": {},
      "outputs": [
        {
          "data": {
            "text/plain": [
              "82.0"
            ]
          },
          "execution_count": 3,
          "metadata": {},
          "output_type": "execute_result"
        }
      ],
      "source": [
        "# Función promedio \n",
        "def promedio(values):\n",
        "    total = sum(values)\n",
        "    número_de_items = len(values)\n",
        "    return total / número_de_items\n",
        "\n",
        "# Test the averaging function with a list of integers:\n",
        "promedio([80, 85, 81]) "
      ]
    },
    {
      "cell_type": "markdown",
      "metadata": {},
      "source": [
        "Ahora actualiza la función de informes para llamando a la nueva función del promedio:\n"
      ]
    },
    {
      "cell_type": "code",
      "execution_count": 4,
      "metadata": {},
      "outputs": [
        {
          "name": "stdout",
          "output_type": "stream",
          "text": [
            "Informe de combustible:\n",
            "    Promedio total: 78.0%\n",
            "    Tanque principal: 88%\n",
            "    Tanque externo: 76%\n",
            "    Tanque de hidrógeno: 70% \n",
            "    \n"
          ]
        }
      ],
      "source": [
        "# Actualiza la función\n",
        "def generar_reporte(tanque_principal, tanque_externo, tanque_de_hidrógeno):\n",
        "    return f\"\"\"Informe de combustible:\n",
        "    Promedio total: {promedio([tanque_principal, tanque_externo, tanque_de_hidrógeno])}%\n",
        "    Tanque principal: {tanque_principal}%\n",
        "    Tanque externo: {tanque_externo}%\n",
        "    Tanque de hidrógeno: {tanque_de_hidrógeno}% \n",
        "    \"\"\"\n",
        "print(generar_reporte(88, 76, 70))"
      ]
    },
    {
      "cell_type": "markdown",
      "metadata": {},
      "source": [
        "## Ejercicio 2: Trabajo con argumentos de palabra clave"
      ]
    },
    {
      "cell_type": "markdown",
      "metadata": {},
      "source": [
        "### Ejercicio : Trabajar con argumentos de palabras clave en funciones\n",
        "En este ejercicio, construirás un informe de cohete que requiere varias piezas de información, como el tiempo hasta el destino, el combustible a la izquierda y el nombre del destino. Comienza por crear una función que creará un informe preciso de la misión:"
      ]
    },
    {
      "cell_type": "code",
      "execution_count": 8,
      "metadata": {},
      "outputs": [
        {
          "name": "stdout",
          "output_type": "stream",
          "text": [
            "\n",
            "    Misión a la Luna\n",
            "    Tiempo total de viaje: 65 minutos\n",
            "    Combustible total restante: 500000 galones\n",
            "    \n"
          ]
        }
      ],
      "source": [
        "# Función con un informe preciso de la misión. Considera hora de prelanzamiento, tiempo de vuelo, destino, tanque externo y tanque interno\n",
        "def informe_mision(hora_antes_del_lanzamiento, tiempo_de_vuelo, destino, tanque_externo, tanque_principal):\n",
        "    return f\"\"\"\n",
        "    Misión a la {destino}\n",
        "    Tiempo total de viaje: {hora_antes_del_lanzamiento + tiempo_de_vuelo} minutos\n",
        "    Combustible total restante: {tanque_externo + tanque_principal} galones\n",
        "    \"\"\"\n",
        "\n",
        "print(informe_mision(14, 51, \"Luna\", 200000, 300000))"
      ]
    },
    {
      "cell_type": "markdown",
      "metadata": {},
      "source": [
        "La función es problemática porque no se puede adaptar para minutos adicionales o tanques adicionales de combustible. Hazlo más flexible permitiendo cualquier número de pasos basados en el tiempo y cualquier número de tanques. En lugar de usar `*args` y `**kwargs`, aprovecha el hecho de que puedes usar cualquier nombre que desees. Asegurate que la función sea más legible mediante el uso de nombres de variables que están asociados con las entradas, como `*minutes` y `**fuel_reservoirs`:"
      ]
    },
    {
      "cell_type": "code",
      "execution_count": 9,
      "metadata": {},
      "outputs": [
        {
          "name": "stdout",
          "output_type": "stream",
          "text": [
            "\n",
            "    Misión a la Luna\n",
            "    Tiempo total de viaje: 76 minutes\n",
            "    Combustible total restante: 500000\n",
            "    \n"
          ]
        }
      ],
      "source": [
        "# Escribe tu nueva función de reporte considerando lo anterior\n",
        "def informe_mision(destino, *minutos, **depósitos_de_combustible):\n",
        "    return f\"\"\"\n",
        "    Misión a la {destino}\n",
        "    Tiempo total de viaje: {sum(minutos)} minutes\n",
        "    Combustible total restante: {sum(depósitos_de_combustible.values())}\n",
        "    \"\"\"\n",
        "\n",
        "print(informe_mision(\"Luna\", 10, 15, 51, principal=300000, externo=200000))"
      ]
    },
    {
      "cell_type": "markdown",
      "metadata": {},
      "source": [
        "Debido a que el combustible que queda en los tanques es específico de cada tanque, actualiza la función para usar el nombre de cada tanque en el informe:"
      ]
    },
    {
      "cell_type": "code",
      "execution_count": 12,
      "metadata": {},
      "outputs": [
        {
          "name": "stdout",
          "output_type": "stream",
          "text": [
            "\n",
            "    Misión a Luna\n",
            "    Tiempo total de viaje: 74 minutos\n",
            "    Combustible total restante: 500000\n",
            "    principal tanque --> 300000 galones restantes\n",
            "externo tanque --> 200000 galones restantes\n",
            "\n"
          ]
        }
      ],
      "source": [
        "# Escribe tu nueva función\n",
        "def informe_mision(destino, *minutos, **depósitos_de_combustible):\n",
        "    informe_principal = f\"\"\"\n",
        "    Misión a {destino}\n",
        "    Tiempo total de viaje: {sum(minutos)} minutos\n",
        "    Combustible total restante: {sum(depósitos_de_combustible.values())}\n",
        "    \"\"\"\n",
        "    for nombre_tanque, galones in depósitos_de_combustible.items():\n",
        "        informe_principal += f\"{nombre_tanque} tanque --> {galones} galones restantes\\n\"\n",
        "    return informe_principal\n",
        "\n",
        "print(informe_mision(\"Luna\", 8, 11, 55, principal=300000, externo=200000))"
      ]
    }
  ],
  "metadata": {
    "interpreter": {
      "hash": "205095b8b86ea82a021a8fc2ffba2b3bc9f8d0be25999901963b225939f75778"
    },
    "kernelspec": {
      "display_name": "Python 3.8.10 64-bit ('tmp': conda)",
      "name": "python3"
    },
    "language_info": {
      "codemirror_mode": {
        "name": "ipython",
        "version": 3
      },
      "file_extension": ".py",
      "mimetype": "text/x-python",
      "name": "python",
      "nbconvert_exporter": "python",
      "pygments_lexer": "ipython3",
      "version": "3.9.7"
    },
    "nteract": {
      "version": "nteract-front-end@1.0.0"
    },
    "orig_nbformat": 4
  },
  "nbformat": 4,
  "nbformat_minor": 2
}
